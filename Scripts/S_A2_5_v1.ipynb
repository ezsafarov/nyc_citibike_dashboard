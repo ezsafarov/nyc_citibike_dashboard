{
 "cells": [
  {
   "cell_type": "markdown",
   "id": "6dcb2e7a-c903-4fbd-af0b-33ba74cafff0",
   "metadata": {},
   "source": [
    "# Kepler.gl Geospatial Mapping – Citi Bike NYC 2022\n",
    "\n",
    "## Table of Contents\n",
    "1. Setup & Imports\n",
    "2. Load & Inspect Data\n",
    "3. Aggregate Trips]\n",
    "4. Create & Customize Kepler.gl Map\n",
    "5. Final Summary - What the Map Shows"
   ]
  },
  {
   "cell_type": "markdown",
   "id": "9d76c193-3952-450e-9867-026ae3711a0c",
   "metadata": {},
   "source": [
    "## 1. Setup & Imports <a name=\"setup-imports\"></a>"
   ]
  },
  {
   "cell_type": "code",
   "execution_count": 1,
   "id": "8cd69c18-2bec-4e4c-8068-bf6247c60b51",
   "metadata": {
    "scrolled": true
   },
   "outputs": [
    {
     "name": "stderr",
     "output_type": "stream",
     "text": [
      "/Users/emilsafarov/Library/CloudStorage/OneDrive-Personal/CF/CF_S2/nyc_citibike_dashboard/citibike_env/lib/python3.12/site-packages/keplergl/keplergl.py:2: UserWarning: pkg_resources is deprecated as an API. See https://setuptools.pypa.io/en/latest/pkg_resources.html. The pkg_resources package is slated for removal as early as 2025-11-30. Refrain from using this package or pin to Setuptools<81.\n",
      "  from pkg_resources import resource_string\n"
     ]
    }
   ],
   "source": [
    "import pandas as pd\n",
    "import os\n",
    "from keplergl import KeplerGl\n",
    "from pyproj import CRS\n",
    "import numpy as np\n",
    "from matplotlib import pyplot as plt"
   ]
  },
  {
   "cell_type": "markdown",
   "id": "a7736d7c-1311-4950-891c-88b8da383ed3",
   "metadata": {},
   "source": [
    "## 2. Load & Inspect Data <a name=\"load-inspect-data\"></a>"
   ]
  },
  {
   "cell_type": "code",
   "execution_count": 2,
   "id": "10846caa-27c4-47a2-a0c9-a853e8bbac07",
   "metadata": {},
   "outputs": [
    {
     "data": {
      "text/html": [
       "<div>\n",
       "<style scoped>\n",
       "    .dataframe tbody tr th:only-of-type {\n",
       "        vertical-align: middle;\n",
       "    }\n",
       "\n",
       "    .dataframe tbody tr th {\n",
       "        vertical-align: top;\n",
       "    }\n",
       "\n",
       "    .dataframe thead th {\n",
       "        text-align: right;\n",
       "    }\n",
       "</style>\n",
       "<table border=\"1\" class=\"dataframe\">\n",
       "  <thead>\n",
       "    <tr style=\"text-align: right;\">\n",
       "      <th></th>\n",
       "      <th>ride_id</th>\n",
       "      <th>rideable_type</th>\n",
       "      <th>started_at</th>\n",
       "      <th>ended_at</th>\n",
       "      <th>start_station_name</th>\n",
       "      <th>start_station_id</th>\n",
       "      <th>end_station_name</th>\n",
       "      <th>end_station_id</th>\n",
       "      <th>start_lat</th>\n",
       "      <th>start_lng</th>\n",
       "      <th>end_lat</th>\n",
       "      <th>end_lng</th>\n",
       "      <th>member_casual</th>\n",
       "      <th>date</th>\n",
       "      <th>avg_temp</th>\n",
       "    </tr>\n",
       "  </thead>\n",
       "  <tbody>\n",
       "    <tr>\n",
       "      <th>0</th>\n",
       "      <td>3255D3E3F33CDC45</td>\n",
       "      <td>classic_bike</td>\n",
       "      <td>2022-03-18 15:38:17</td>\n",
       "      <td>2022-03-18 15:45:34</td>\n",
       "      <td>Mama Johnson Field - 4 St &amp; Jackson St</td>\n",
       "      <td>HB404</td>\n",
       "      <td>South Waterfront Walkway - Sinatra Dr &amp; 1 St</td>\n",
       "      <td>HB103</td>\n",
       "      <td>40.743140</td>\n",
       "      <td>-74.040041</td>\n",
       "      <td>40.736982</td>\n",
       "      <td>-74.027781</td>\n",
       "      <td>casual</td>\n",
       "      <td>2022-03-18</td>\n",
       "      <td>12.2</td>\n",
       "    </tr>\n",
       "    <tr>\n",
       "      <th>1</th>\n",
       "      <td>17FA5604A37338F9</td>\n",
       "      <td>electric_bike</td>\n",
       "      <td>2022-03-04 16:44:48</td>\n",
       "      <td>2022-03-04 16:50:45</td>\n",
       "      <td>Baldwin at Montgomery</td>\n",
       "      <td>JC020</td>\n",
       "      <td>Grove St PATH</td>\n",
       "      <td>JC005</td>\n",
       "      <td>40.723659</td>\n",
       "      <td>-74.064194</td>\n",
       "      <td>40.719586</td>\n",
       "      <td>-74.043117</td>\n",
       "      <td>member</td>\n",
       "      <td>2022-03-04</td>\n",
       "      <td>-2.7</td>\n",
       "    </tr>\n",
       "    <tr>\n",
       "      <th>2</th>\n",
       "      <td>7DEC9ADDB8D6BBE1</td>\n",
       "      <td>electric_bike</td>\n",
       "      <td>2022-03-13 17:44:32</td>\n",
       "      <td>2022-03-13 17:54:44</td>\n",
       "      <td>Baldwin at Montgomery</td>\n",
       "      <td>JC020</td>\n",
       "      <td>Grove St PATH</td>\n",
       "      <td>JC005</td>\n",
       "      <td>40.723659</td>\n",
       "      <td>-74.064194</td>\n",
       "      <td>40.719586</td>\n",
       "      <td>-74.043117</td>\n",
       "      <td>member</td>\n",
       "      <td>2022-03-13</td>\n",
       "      <td>-2.3</td>\n",
       "    </tr>\n",
       "    <tr>\n",
       "      <th>3</th>\n",
       "      <td>9D69F74EEF231A2E</td>\n",
       "      <td>classic_bike</td>\n",
       "      <td>2022-03-13 15:33:47</td>\n",
       "      <td>2022-03-13 15:41:22</td>\n",
       "      <td>Baldwin at Montgomery</td>\n",
       "      <td>JC020</td>\n",
       "      <td>Grove St PATH</td>\n",
       "      <td>JC005</td>\n",
       "      <td>40.723659</td>\n",
       "      <td>-74.064194</td>\n",
       "      <td>40.719586</td>\n",
       "      <td>-74.043117</td>\n",
       "      <td>member</td>\n",
       "      <td>2022-03-13</td>\n",
       "      <td>-2.3</td>\n",
       "    </tr>\n",
       "    <tr>\n",
       "      <th>4</th>\n",
       "      <td>C84AE4A9D78A6347</td>\n",
       "      <td>classic_bike</td>\n",
       "      <td>2022-03-11 12:21:18</td>\n",
       "      <td>2022-03-11 12:33:24</td>\n",
       "      <td>Baldwin at Montgomery</td>\n",
       "      <td>JC020</td>\n",
       "      <td>Grove St PATH</td>\n",
       "      <td>JC005</td>\n",
       "      <td>40.723659</td>\n",
       "      <td>-74.064194</td>\n",
       "      <td>40.719586</td>\n",
       "      <td>-74.043117</td>\n",
       "      <td>member</td>\n",
       "      <td>2022-03-11</td>\n",
       "      <td>4.9</td>\n",
       "    </tr>\n",
       "  </tbody>\n",
       "</table>\n",
       "</div>"
      ],
      "text/plain": [
       "            ride_id  rideable_type           started_at             ended_at  \\\n",
       "0  3255D3E3F33CDC45   classic_bike  2022-03-18 15:38:17  2022-03-18 15:45:34   \n",
       "1  17FA5604A37338F9  electric_bike  2022-03-04 16:44:48  2022-03-04 16:50:45   \n",
       "2  7DEC9ADDB8D6BBE1  electric_bike  2022-03-13 17:44:32  2022-03-13 17:54:44   \n",
       "3  9D69F74EEF231A2E   classic_bike  2022-03-13 15:33:47  2022-03-13 15:41:22   \n",
       "4  C84AE4A9D78A6347   classic_bike  2022-03-11 12:21:18  2022-03-11 12:33:24   \n",
       "\n",
       "                       start_station_name start_station_id  \\\n",
       "0  Mama Johnson Field - 4 St & Jackson St            HB404   \n",
       "1                   Baldwin at Montgomery            JC020   \n",
       "2                   Baldwin at Montgomery            JC020   \n",
       "3                   Baldwin at Montgomery            JC020   \n",
       "4                   Baldwin at Montgomery            JC020   \n",
       "\n",
       "                               end_station_name end_station_id  start_lat  \\\n",
       "0  South Waterfront Walkway - Sinatra Dr & 1 St          HB103  40.743140   \n",
       "1                                 Grove St PATH          JC005  40.723659   \n",
       "2                                 Grove St PATH          JC005  40.723659   \n",
       "3                                 Grove St PATH          JC005  40.723659   \n",
       "4                                 Grove St PATH          JC005  40.723659   \n",
       "\n",
       "   start_lng    end_lat    end_lng member_casual        date  avg_temp  \n",
       "0 -74.040041  40.736982 -74.027781        casual  2022-03-18      12.2  \n",
       "1 -74.064194  40.719586 -74.043117        member  2022-03-04      -2.7  \n",
       "2 -74.064194  40.719586 -74.043117        member  2022-03-13      -2.3  \n",
       "3 -74.064194  40.719586 -74.043117        member  2022-03-13      -2.3  \n",
       "4 -74.064194  40.719586 -74.043117        member  2022-03-11       4.9  "
      ]
     },
     "execution_count": 2,
     "metadata": {},
     "output_type": "execute_result"
    }
   ],
   "source": [
    "# Load the cleaned dataset (update filename if different)\n",
    "df = pd.read_csv(\"/Users/emilsafarov/Library/CloudStorage/OneDrive-Personal/CF/CF_S2/nyc_citibike_dashboard_old/Data/Output/citibike_weather_merged_2022.csv\")\n",
    "\n",
    "# Preview the first few rows\n",
    "df.head()"
   ]
  },
  {
   "cell_type": "code",
   "execution_count": 3,
   "id": "b47cf866-e8bd-46c9-881f-c4a48740d573",
   "metadata": {},
   "outputs": [
    {
     "data": {
      "text/plain": [
       "(895485, 15)"
      ]
     },
     "execution_count": 3,
     "metadata": {},
     "output_type": "execute_result"
    }
   ],
   "source": [
    "df.shape"
   ]
  },
  {
   "cell_type": "code",
   "execution_count": 4,
   "id": "852b5fc0-008b-4c3a-8c12-558e262bb203",
   "metadata": {},
   "outputs": [
    {
     "data": {
      "text/plain": [
       "Index(['ride_id', 'rideable_type', 'started_at', 'ended_at',\n",
       "       'start_station_name', 'start_station_id', 'end_station_name',\n",
       "       'end_station_id', 'start_lat', 'start_lng', 'end_lat', 'end_lng',\n",
       "       'member_casual', 'date', 'avg_temp'],\n",
       "      dtype='object')"
      ]
     },
     "execution_count": 4,
     "metadata": {},
     "output_type": "execute_result"
    }
   ],
   "source": [
    "df.columns"
   ]
  },
  {
   "cell_type": "markdown",
   "id": "c5011c38-52c2-4f3e-8ae1-f98abd4e0109",
   "metadata": {},
   "source": [
    "## 3. Aggregate Trips <a name=\"aggregate-trips\"></a>"
   ]
  },
  {
   "cell_type": "code",
   "execution_count": 5,
   "id": "879cc4d5-2c9d-471c-9a09-92acce39a9f7",
   "metadata": {},
   "outputs": [],
   "source": [
    "# Add a value column to count each trip\n",
    "df[\"value\"] = 1\n",
    "\n",
    "# Group by start and end station, then count trips\n",
    "df_grouped = df.groupby([\"start_station_name\", \"end_station_name\"])[\"value\"].count().reset_index()\n",
    "\n",
    "# Rename for clarity\n",
    "df_grouped.rename(columns={\n",
    "    \"start_station_name\": \"start_station\",\n",
    "    \"end_station_name\": \"end_station\",\n",
    "    \"value\": \"trips\"\n",
    "}, inplace=True)"
   ]
  },
  {
   "cell_type": "code",
   "execution_count": 6,
   "id": "cfc00290-e0e2-4b41-bcae-55304f6db0c6",
   "metadata": {},
   "outputs": [
    {
     "data": {
      "text/plain": [
       "(6953, 7)"
      ]
     },
     "execution_count": 6,
     "metadata": {},
     "output_type": "execute_result"
    }
   ],
   "source": [
    "# Recreate grouped data from scratch just in case\n",
    "df[\"value\"] = 1\n",
    "df_grouped = df.groupby([\"start_station_name\", \"end_station_name\"])[\"value\"].count().reset_index()\n",
    "df_grouped.rename(columns={\n",
    "    \"start_station_name\": \"start_station\",\n",
    "    \"end_station_name\": \"end_station\",\n",
    "    \"value\": \"trips\"\n",
    "}, inplace=True)\n",
    "\n",
    "# Create station coordinate reference – keep only 1 row per station name\n",
    "start_coords = df.drop_duplicates(subset=\"start_station_name\")[[\"start_station_name\", \"start_lat\", \"start_lng\"]]\n",
    "end_coords = df.drop_duplicates(subset=\"end_station_name\")[[\"end_station_name\", \"end_lat\", \"end_lng\"]]\n",
    "\n",
    "# Merge in clean coordinates\n",
    "df_grouped = df_grouped.merge(\n",
    "    start_coords,\n",
    "    left_on=\"start_station\",\n",
    "    right_on=\"start_station_name\",\n",
    "    how=\"left\"\n",
    ")\n",
    "\n",
    "df_grouped = df_grouped.merge(\n",
    "    end_coords,\n",
    "    left_on=\"end_station\",\n",
    "    right_on=\"end_station_name\",\n",
    "    how=\"left\"\n",
    ")\n",
    "\n",
    "# Drop redundant keys\n",
    "df_grouped.drop(columns=[\"start_station_name\", \"end_station_name\"], inplace=True)\n",
    "\n",
    "# Final check\n",
    "df_grouped.shape"
   ]
  },
  {
   "cell_type": "markdown",
   "id": "55f8b72f-96dd-4b09-a917-5b121c8000d8",
   "metadata": {},
   "source": [
    "### Note on Duplicated Rows\n",
    "To ensure accurate aggregation of trips between stations, duplicated rows were dropped before exporting the map.\n",
    "\n",
    "With duplicates included, the dataset contained over 1 million records, which would have inflated trip counts and potentially distorted the visual weight of arcs on the map.\n",
    "While dropped for clarity in the main map, this raw trip volume could be visualized as a separate layer in future versions to highlight absolute usage density or temporal patterns across all records."
   ]
  },
  {
   "cell_type": "markdown",
   "id": "cf56e51f-ffbd-4248-b656-3e472731249c",
   "metadata": {},
   "source": [
    "#### Note on Duplicated Rows\n",
    "To ensure accurate aggregation of trips between stations, duplicated rows were dropped before exporting the map.\n",
    "\n",
    "With duplicates included, the dataset contained over 1 million records, which would have inflated trip counts and potentially distorted the visual weight of arcs on the map.\n",
    "While dropped for clarity in the main map, this raw trip volume could be visualized as a separate layer in future versions to highlight absolute usage density or temporal patterns across all records."
   ]
  },
  {
   "cell_type": "code",
   "execution_count": null,
   "id": "780cf94d-07a0-4878-aab3-67ab5a96e021",
   "metadata": {},
   "outputs": [],
   "source": []
  },
  {
   "cell_type": "code",
   "execution_count": null,
   "id": "d7388a5f-f214-448f-bf56-318790800adc",
   "metadata": {},
   "outputs": [],
   "source": []
  },
  {
   "cell_type": "code",
   "execution_count": 7,
   "id": "8199ed78-77c3-4674-a4fd-e0d6c88ce153",
   "metadata": {},
   "outputs": [
    {
     "data": {
      "text/html": [
       "<div>\n",
       "<style scoped>\n",
       "    .dataframe tbody tr th:only-of-type {\n",
       "        vertical-align: middle;\n",
       "    }\n",
       "\n",
       "    .dataframe tbody tr th {\n",
       "        vertical-align: top;\n",
       "    }\n",
       "\n",
       "    .dataframe thead th {\n",
       "        text-align: right;\n",
       "    }\n",
       "</style>\n",
       "<table border=\"1\" class=\"dataframe\">\n",
       "  <thead>\n",
       "    <tr style=\"text-align: right;\">\n",
       "      <th></th>\n",
       "      <th>start_station</th>\n",
       "      <th>end_station</th>\n",
       "      <th>trips</th>\n",
       "      <th>start_lat</th>\n",
       "      <th>start_lng</th>\n",
       "      <th>end_lat</th>\n",
       "      <th>end_lng</th>\n",
       "    </tr>\n",
       "  </thead>\n",
       "  <tbody>\n",
       "    <tr>\n",
       "      <th>0</th>\n",
       "      <td>11 St &amp; Washington St</td>\n",
       "      <td>11 St &amp; Washington St</td>\n",
       "      <td>1132</td>\n",
       "      <td>40.749985</td>\n",
       "      <td>-74.02715</td>\n",
       "      <td>40.749985</td>\n",
       "      <td>-74.027150</td>\n",
       "    </tr>\n",
       "    <tr>\n",
       "      <th>1</th>\n",
       "      <td>11 St &amp; Washington St</td>\n",
       "      <td>12 Ave &amp; W 40 St</td>\n",
       "      <td>1</td>\n",
       "      <td>40.749985</td>\n",
       "      <td>-74.02715</td>\n",
       "      <td>40.760875</td>\n",
       "      <td>-74.002777</td>\n",
       "    </tr>\n",
       "    <tr>\n",
       "      <th>2</th>\n",
       "      <td>11 St &amp; Washington St</td>\n",
       "      <td>12 St &amp; Sinatra Dr N</td>\n",
       "      <td>253</td>\n",
       "      <td>40.749985</td>\n",
       "      <td>-74.02715</td>\n",
       "      <td>40.750604</td>\n",
       "      <td>-74.024020</td>\n",
       "    </tr>\n",
       "    <tr>\n",
       "      <th>3</th>\n",
       "      <td>11 St &amp; Washington St</td>\n",
       "      <td>14 St Ferry - 14 St &amp; Shipyard Ln</td>\n",
       "      <td>395</td>\n",
       "      <td>40.749985</td>\n",
       "      <td>-74.02715</td>\n",
       "      <td>40.752961</td>\n",
       "      <td>-74.024353</td>\n",
       "    </tr>\n",
       "    <tr>\n",
       "      <th>4</th>\n",
       "      <td>11 St &amp; Washington St</td>\n",
       "      <td>4 St &amp; Grand St</td>\n",
       "      <td>350</td>\n",
       "      <td>40.749985</td>\n",
       "      <td>-74.02715</td>\n",
       "      <td>40.742258</td>\n",
       "      <td>-74.035111</td>\n",
       "    </tr>\n",
       "    <tr>\n",
       "      <th>5</th>\n",
       "      <td>11 St &amp; Washington St</td>\n",
       "      <td>6 St &amp; Grand St</td>\n",
       "      <td>314</td>\n",
       "      <td>40.749985</td>\n",
       "      <td>-74.02715</td>\n",
       "      <td>40.744398</td>\n",
       "      <td>-74.034501</td>\n",
       "    </tr>\n",
       "    <tr>\n",
       "      <th>6</th>\n",
       "      <td>11 St &amp; Washington St</td>\n",
       "      <td>7 St &amp; Monroe St</td>\n",
       "      <td>242</td>\n",
       "      <td>40.749985</td>\n",
       "      <td>-74.02715</td>\n",
       "      <td>40.746413</td>\n",
       "      <td>-74.037977</td>\n",
       "    </tr>\n",
       "    <tr>\n",
       "      <th>7</th>\n",
       "      <td>11 St &amp; Washington St</td>\n",
       "      <td>8 St &amp; Washington St</td>\n",
       "      <td>425</td>\n",
       "      <td>40.749985</td>\n",
       "      <td>-74.02715</td>\n",
       "      <td>40.745984</td>\n",
       "      <td>-74.028199</td>\n",
       "    </tr>\n",
       "    <tr>\n",
       "      <th>8</th>\n",
       "      <td>11 St &amp; Washington St</td>\n",
       "      <td>9 St HBLR - Jackson St &amp; 8 St</td>\n",
       "      <td>489</td>\n",
       "      <td>40.749985</td>\n",
       "      <td>-74.02715</td>\n",
       "      <td>40.747907</td>\n",
       "      <td>-74.038412</td>\n",
       "    </tr>\n",
       "    <tr>\n",
       "      <th>9</th>\n",
       "      <td>11 St &amp; Washington St</td>\n",
       "      <td>Adams St &amp; 11 St</td>\n",
       "      <td>315</td>\n",
       "      <td>40.749985</td>\n",
       "      <td>-74.02715</td>\n",
       "      <td>40.750916</td>\n",
       "      <td>-74.033541</td>\n",
       "    </tr>\n",
       "  </tbody>\n",
       "</table>\n",
       "</div>"
      ],
      "text/plain": [
       "           start_station                        end_station  trips  start_lat  \\\n",
       "0  11 St & Washington St              11 St & Washington St   1132  40.749985   \n",
       "1  11 St & Washington St                   12 Ave & W 40 St      1  40.749985   \n",
       "2  11 St & Washington St               12 St & Sinatra Dr N    253  40.749985   \n",
       "3  11 St & Washington St  14 St Ferry - 14 St & Shipyard Ln    395  40.749985   \n",
       "4  11 St & Washington St                    4 St & Grand St    350  40.749985   \n",
       "5  11 St & Washington St                    6 St & Grand St    314  40.749985   \n",
       "6  11 St & Washington St                   7 St & Monroe St    242  40.749985   \n",
       "7  11 St & Washington St               8 St & Washington St    425  40.749985   \n",
       "8  11 St & Washington St      9 St HBLR - Jackson St & 8 St    489  40.749985   \n",
       "9  11 St & Washington St                   Adams St & 11 St    315  40.749985   \n",
       "\n",
       "   start_lng    end_lat    end_lng  \n",
       "0  -74.02715  40.749985 -74.027150  \n",
       "1  -74.02715  40.760875 -74.002777  \n",
       "2  -74.02715  40.750604 -74.024020  \n",
       "3  -74.02715  40.752961 -74.024353  \n",
       "4  -74.02715  40.742258 -74.035111  \n",
       "5  -74.02715  40.744398 -74.034501  \n",
       "6  -74.02715  40.746413 -74.037977  \n",
       "7  -74.02715  40.745984 -74.028199  \n",
       "8  -74.02715  40.747907 -74.038412  \n",
       "9  -74.02715  40.750916 -74.033541  "
      ]
     },
     "execution_count": 7,
     "metadata": {},
     "output_type": "execute_result"
    }
   ],
   "source": [
    "df_grouped.head(10)"
   ]
  },
  {
   "cell_type": "code",
   "execution_count": null,
   "id": "b782e9b1-83fa-4b06-bd4b-b8632a1e1d23",
   "metadata": {},
   "outputs": [],
   "source": []
  },
  {
   "cell_type": "markdown",
   "id": "c89029b5-95ad-4b96-b17f-04a0aca6272f",
   "metadata": {},
   "source": [
    "## 4. Create & Customize Kepler.gl Map <a name=\"initialize-keplergl-map\"></a>"
   ]
  },
  {
   "cell_type": "code",
   "execution_count": 8,
   "id": "ae294894-6ba3-47c7-9f6a-ca265146ee40",
   "metadata": {},
   "outputs": [
    {
     "name": "stdout",
     "output_type": "stream",
     "text": [
      "User Guide: https://docs.kepler.gl/docs/keplergl-jupyter\n"
     ]
    }
   ],
   "source": [
    "from keplergl import KeplerGl\n",
    "from keplergl.keplergl import data_to_json  # helper for safe export\n",
    "import json\n",
    "\n",
    "# Create clean map (don't add data directly)\n",
    "map_final = KeplerGl(height=700)\n",
    "\n",
    "# Add config manually\n",
    "map_final.add_data(data=df_grouped, name=\"NYC Bike Trips\")\n",
    "config = map_final.config\n",
    "\n",
    "# Manual export — bypassing broken internals\n",
    "with open(\"nyc_bike_map_v2.html\", \"wb\") as f:\n",
    "    html = map_final._repr_html_(\n",
    "        data={\"NYC Bike Trips\": df_grouped},\n",
    "        config=config\n",
    "    )\n",
    "    f.write(html)"
   ]
  },
  {
   "cell_type": "code",
   "execution_count": 9,
   "id": "38dd6cd1-1f2c-4220-b6a1-cdd1b6c1a6f0",
   "metadata": {},
   "outputs": [],
   "source": [
    "# (Optional) Save config to a separate JSON file for future reuse\n",
    "with open(\"config.json\", \"w\") as outfile:\n",
    "    json.dump(config, outfile)"
   ]
  },
  {
   "cell_type": "markdown",
   "id": "71e79bf8-c6e5-4ade-a4bd-75574f136962",
   "metadata": {},
   "source": [
    "#### Note\n",
    "Since Kepler.gl doesn’t render properly in JupyterLab and raised internal export issues, we manually added the data and configuration before exporting the map to HTML. This approach ensured the output map was correctly generated and allowed us to apply all customizations directly in the browser. The process remains focused on one cohesive step: map creation, styling, and export."
   ]
  },
  {
   "cell_type": "markdown",
   "id": "9a1f6ae1-1707-4e4c-ba26-7b38719244e1",
   "metadata": {},
   "source": [
    "## 5. Final Summary – What the Map Shows <a name=\"map-observations\"></a>\n",
    "\n",
    "After plotting the bike trip data using an Arc Layer in Kepler.gl, the map reveals a clear and directional flow of trips:\n",
    "\n",
    "The majority of trips originate in Jersey City and Hoboken, and also near the intersection of Highway 78 and 139 — dense, well-connected zones.\n",
    "Many of these trips end in lower Manhattan, suggesting cross-river commuting, likely driven by proximity to job centers and transit hubs.\n",
    "Some stations act as major bidirectional nodes, while others show heavily one-way traffic — highlighting strong commuter patterns.\n",
    "By applying filters, the busiest start and end stations can be isolated, and lower-density zones can be flagged as potentially underserved.\n",
    "Neighborhood Profile: Jersey City & Hoboken\n",
    "Based on bestneighborhood.org, the neighborhoods where most trips start share the following traits:\n",
    "\n",
    "Demographics: Predominantly White and Asian populations\n",
    "Economic Indicators: High-income households, low to moderate unemployment\n",
    "Housing: Mostly rental units with upper-market pricing\n",
    "Urban Form: Transit-rich, walkable areas likely to support and depend on bike share access\n",
    "This context helps explain the high trip volume and directional flows toward economic centers.\n",
    "\n",
    "Suggestions for Further Investigation\n",
    "Equity Analysis: Compare trip volume and infrastructure access across income and demographic lines.\n",
    "Demand Management: Assess if popular Jersey City/Hoboken hubs are under pressure for bike availability.\n",
    "Underserved Zones: Look for areas with low trip counts but growing populations or limited public transport.\n",
    "Time Filters: Segment by hour to validate commute timing and potential for rebalancing bike supply."
   ]
  },
  {
   "cell_type": "markdown",
   "id": "df0ae961-1996-481f-88db-37af2b30ed3f",
   "metadata": {},
   "source": [
    "## 6. Map use - information about layers\n",
    "\n",
    "could be added in the future"
   ]
  }
 ],
 "metadata": {
  "kernelspec": {
   "display_name": "citibike_env",
   "language": "python",
   "name": "citibike_env"
  },
  "language_info": {
   "codemirror_mode": {
    "name": "ipython",
    "version": 3
   },
   "file_extension": ".py",
   "mimetype": "text/x-python",
   "name": "python",
   "nbconvert_exporter": "python",
   "pygments_lexer": "ipython3",
   "version": "3.12.2"
  }
 },
 "nbformat": 4,
 "nbformat_minor": 5
}
