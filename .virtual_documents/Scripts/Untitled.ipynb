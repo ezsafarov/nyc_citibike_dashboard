import pandas as pd
from matplotlib import pyplot as plt
import numpy as np
from datetime import datetime as dt
